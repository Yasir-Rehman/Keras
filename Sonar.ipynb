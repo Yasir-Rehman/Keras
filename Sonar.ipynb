{
 "cells": [
  {
   "cell_type": "code",
   "execution_count": 1,
   "metadata": {},
   "outputs": [
    {
     "name": "stderr",
     "output_type": "stream",
     "text": [
      "Using TensorFlow backend.\n"
     ]
    }
   ],
   "source": [
    "import numpy as np\n",
    "import pandas as pd\n",
    "from keras.models import Sequential\n",
    "from keras.layers import Dense\n",
    "from keras.wrappers.scikit_learn import KerasClassifier\n",
    "from sklearn.model_selection import cross_val_score\n",
    "from sklearn.preprocessing import LabelEncoder\n",
    "from sklearn.model_selection import StratifiedKFold\n",
    "from sklearn.preprocessing import StandardScaler\n",
    "from sklearn.pipeline import Pipeline\n",
    "from keras import regularizers\n",
    "from keras.layers import Dropout\n",
    "from keras.optimizers import SGD\n",
    "from keras.constraints import maxnorm"
   ]
  },
  {
   "cell_type": "code",
   "execution_count": 2,
   "metadata": {},
   "outputs": [],
   "source": [
    "seed = 7\n",
    "np.random.seed(seed)"
   ]
  },
  {
   "cell_type": "code",
   "execution_count": 3,
   "metadata": {},
   "outputs": [],
   "source": [
    "df = pd.read_csv('../DeepLearningPracticeProjects-master/Deep_Learning_Project_One/sonar.csv')"
   ]
  },
  {
   "cell_type": "code",
   "execution_count": 4,
   "metadata": {},
   "outputs": [],
   "source": [
    "y = df.select_dtypes(include=[object])\n",
    "x = df.select_dtypes(include=[np.number])"
   ]
  },
  {
   "cell_type": "code",
   "execution_count": 5,
   "metadata": {},
   "outputs": [],
   "source": [
    "le = LabelEncoder()\n",
    "y=y.apply(le.fit_transform)"
   ]
  },
  {
   "cell_type": "code",
   "execution_count": 6,
   "metadata": {},
   "outputs": [
    {
     "name": "stdout",
     "output_type": "stream",
     "text": [
      "Standardize: 87.95% (3.10%)\n"
     ]
    }
   ],
   "source": [
    "np.random.seed(seed)\n",
    "def create_model():\n",
    "    model = Sequential()\n",
    "    model.add(Dense(60,activation = 'relu',input_shape=(60,)))\n",
    "    model.add(Dense(60,activation='relu'))\n",
    "    model.add(Dense(30,activation = 'relu'))\n",
    "    model.add(Dense(1,activation='sigmoid'))\n",
    "    sgd = SGD(lr =0.001, momentum =0.9,decay=0.0,nesterov=False)\n",
    "    model.compile(optimizer = sgd, loss = 'binary_crossentropy', metrics = ['accuracy'])\n",
    "    return model\n",
    "\n",
    "estimators = []\n",
    "estimators.append(('Standardize',StandardScaler()))\n",
    "estimators.append(('mlp', KerasClassifier(build_fn = create_model,epochs=100,batch_size=5,verbose=0)))\n",
    "pipeline = Pipeline(estimators)\n",
    "kfold = StratifiedKFold(n_splits=10,shuffle = True,random_state=seed)\n",
    "results = cross_val_score(pipeline,x,y,cv=kfold)\n",
    "print('Standardize: %.2f%% (%.2f%%)' % (results.mean()*100,results.std()*100))"
   ]
  },
  {
   "cell_type": "code",
   "execution_count": 7,
   "metadata": {},
   "outputs": [
    {
     "name": "stdout",
     "output_type": "stream",
     "text": [
      "Standardize: 88.42% (3.08%)\n"
     ]
    }
   ],
   "source": [
    "np.random.seed(seed)\n",
    "def create_model():\n",
    "  model = Sequential()\n",
    "  model.add(Dense(60,kernel_regularizer = regularizers.l2(0.001),activation = 'relu',input_shape=(60,)))\n",
    "  model.add(Dense(60,activation='relu'))\n",
    "  model.add(Dense(30,activation = 'relu'))\n",
    "  model.add(Dense(1,activation='sigmoid'))\n",
    "  sgd = SGD(lr =0.001, momentum =0.9,decay=0.0,nesterov=False)\n",
    "  model.compile(optimizer = sgd, loss = 'binary_crossentropy', metrics = ['accuracy'])\n",
    "  return model\n",
    "\n",
    "estimators = []\n",
    "estimators.append(('Standardize',StandardScaler()))\n",
    "estimators.append(('mlp', KerasClassifier(build_fn = create_model,epochs=100,batch_size=5,verbose=0)))\n",
    "pipeline = Pipeline(estimators)\n",
    "kfold = StratifiedKFold(n_splits=10,shuffle = True,random_state=seed)\n",
    "results = cross_val_score(pipeline,x,y,cv=kfold)\n",
    "print('Standardize: %.2f%% (%.2f%%)' % (results.mean()*100,results.std()*100))"
   ]
  },
  {
   "cell_type": "code",
   "execution_count": 9,
   "metadata": {},
   "outputs": [
    {
     "name": "stdout",
     "output_type": "stream",
     "text": [
      "Standardize: 88.45% (3.80%)\n"
     ]
    }
   ],
   "source": [
    "np.random.seed(seed)\n",
    "def create_model():\n",
    "    model = Sequential()\n",
    "    model.add(Dropout(0.4))\n",
    "    model.add(Dense(60,kernel_regularizer = regularizers.l2(0.001),activation = 'relu',input_shape=(60,)))\n",
    "    model.add(Dense(60,activation='relu'))\n",
    "    model.add(Dense(30,activation = 'relu'))\n",
    "    model.add(Dense(1,activation='sigmoid'))\n",
    "    sgd = SGD(lr =0.001, momentum =0.9,decay=0.0,nesterov=False)\n",
    "    model.compile(optimizer = sgd, loss = 'binary_crossentropy', metrics = ['accuracy'])\n",
    "    return model\n",
    "\n",
    "estimators = []\n",
    "estimators.append(('Standardize',StandardScaler()))\n",
    "estimators.append(('mlp', KerasClassifier(build_fn = create_model,epochs=100,batch_size=5,verbose=0)))\n",
    "pipeline = Pipeline(estimators)\n",
    "kfold = StratifiedKFold(n_splits=10,shuffle = True,random_state=seed)\n",
    "results = cross_val_score(pipeline,x,y,cv=kfold)\n",
    "print('Standardize: %.2f%% (%.2f%%)' % (results.mean()*100,results.std()*100))"
   ]
  },
  {
   "cell_type": "code",
   "execution_count": 11,
   "metadata": {},
   "outputs": [
    {
     "name": "stdout",
     "output_type": "stream",
     "text": [
      "Standardize: 89.90% (3.28%)\n"
     ]
    }
   ],
   "source": [
    "np.random.seed(seed)\n",
    "def create_model():\n",
    "    model = Sequential()\n",
    "    model.add(Dropout(0.3))\n",
    "    model.add(Dense(60,kernel_regularizer = regularizers.l2(0.001),activation = 'relu',input_shape=(60,)))\n",
    "    model.add(Dense(60,activation='relu'))\n",
    "    model.add(Dense(30,activation = 'relu'))\n",
    "    model.add(Dense(1,activation='sigmoid'))\n",
    "    sgd = SGD(lr =0.001, momentum =0.9,decay=0.0,nesterov=False)\n",
    "    model.compile(optimizer = sgd, loss = 'binary_crossentropy', metrics = ['accuracy'])\n",
    "    return model\n",
    "\n",
    "estimators = []\n",
    "estimators.append(('Standardize',StandardScaler()))\n",
    "estimators.append(('mlp', KerasClassifier(build_fn = create_model,epochs=100,batch_size=5,verbose=0)))\n",
    "pipeline = Pipeline(estimators)\n",
    "kfold = StratifiedKFold(n_splits=10,shuffle = True,random_state=seed)\n",
    "results = cross_val_score(pipeline,x,y,cv=kfold)\n",
    "print('Standardize: %.2f%% (%.2f%%)' % (results.mean()*100,results.std()*100))"
   ]
  },
  {
   "cell_type": "code",
   "execution_count": 12,
   "metadata": {},
   "outputs": [
    {
     "name": "stdout",
     "output_type": "stream",
     "text": [
      "Standardize: 90.38% (3.70%)\n"
     ]
    }
   ],
   "source": [
    "np.random.seed(seed)\n",
    "def create_model():\n",
    "    model = Sequential()\n",
    "    model.add(Dropout(0.28))\n",
    "    model.add(Dense(60,kernel_regularizer = regularizers.l2(0.001),activation = 'relu',input_shape=(60,)))\n",
    "    model.add(Dense(60,activation='relu'))\n",
    "    model.add(Dense(30,activation = 'relu'))\n",
    "    model.add(Dense(1,activation='sigmoid'))\n",
    "    sgd = SGD(lr =0.001, momentum =0.9,decay=0.0,nesterov=False)\n",
    "    model.compile(optimizer = sgd, loss = 'binary_crossentropy', metrics = ['accuracy'])\n",
    "    return model\n",
    "\n",
    "estimators = []\n",
    "estimators.append(('Standardize',StandardScaler()))\n",
    "estimators.append(('mlp', KerasClassifier(build_fn = create_model,epochs=100,batch_size=5,verbose=0)))\n",
    "pipeline = Pipeline(estimators)\n",
    "kfold = StratifiedKFold(n_splits=10,shuffle = True,random_state=seed)\n",
    "results = cross_val_score(pipeline,x,y,cv=kfold)\n",
    "print('Standardize: %.2f%% (%.2f%%)' % (results.mean()*100,results.std()*100))"
   ]
  },
  {
   "cell_type": "code",
   "execution_count": 13,
   "metadata": {},
   "outputs": [
    {
     "name": "stdout",
     "output_type": "stream",
     "text": [
      "Standardize: 87.97% (3.82%)\n"
     ]
    }
   ],
   "source": [
    "np.random.seed(seed)\n",
    "def create_model():\n",
    "    model = Sequential()\n",
    "    model.add(Dropout(0.25))\n",
    "    model.add(Dense(60,kernel_regularizer = regularizers.l2(0.001),activation = 'relu',input_shape=(60,)))\n",
    "    model.add(Dense(60,activation='relu'))\n",
    "    model.add(Dense(30,activation = 'relu'))\n",
    "    model.add(Dense(1,activation='sigmoid'))\n",
    "    sgd = SGD(lr =0.001, momentum =0.9,decay=0.0,nesterov=False)\n",
    "    model.compile(optimizer = sgd, loss = 'binary_crossentropy', metrics = ['accuracy'])\n",
    "    return model\n",
    "\n",
    "estimators = []\n",
    "estimators.append(('Standardize',StandardScaler()))\n",
    "estimators.append(('mlp', KerasClassifier(build_fn = create_model,epochs=100,batch_size=5,verbose=0)))\n",
    "pipeline = Pipeline(estimators)\n",
    "kfold = StratifiedKFold(n_splits=10,shuffle = True,random_state=seed)\n",
    "results = cross_val_score(pipeline,x,y,cv=kfold)\n",
    "print('Standardize: %.2f%% (%.2f%%)' % (results.mean()*100,results.std()*100))"
   ]
  },
  {
   "cell_type": "code",
   "execution_count": null,
   "metadata": {},
   "outputs": [],
   "source": []
  }
 ],
 "metadata": {
  "kernelspec": {
   "display_name": "Python 3",
   "language": "python",
   "name": "python3"
  },
  "language_info": {
   "codemirror_mode": {
    "name": "ipython",
    "version": 3
   },
   "file_extension": ".py",
   "mimetype": "text/x-python",
   "name": "python",
   "nbconvert_exporter": "python",
   "pygments_lexer": "ipython3",
   "version": "3.6.5"
  }
 },
 "nbformat": 4,
 "nbformat_minor": 2
}
